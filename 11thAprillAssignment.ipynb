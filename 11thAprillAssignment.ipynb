{
 "cells": [
  {
   "cell_type": "markdown",
   "id": "37eb91f8-9bfe-49dc-be26-6d99e530488c",
   "metadata": {},
   "source": [
    "#### Q1. What is an ensemble technique in machine learning?"
   ]
  },
  {
   "cell_type": "markdown",
   "id": "27aa8a52-53f6-49ad-8163-c02d4456ae8c",
   "metadata": {},
   "source": [
    "An ensemle tehchnique is a method of combining multiple model to improve overall performance and accuracy of a prediction.\n",
    "ensemble methods combine the outputs of several models to produce a more robust and accurate prediction.\n",
    "\n",
    "There are several types of ensemble techniques, including:\n",
    "\n",
    "- Bagging: multiple independet model and then combining their prediction through voting classifier or averaging the all the ouput\n",
    "- Boosting\n",
    "- Stacking"
   ]
  },
  {
   "cell_type": "markdown",
   "id": "66906a8f-9e46-41fb-8b3d-65bf82bd2fb7",
   "metadata": {},
   "source": [
    "#### Q2. Why are ensemble techniques used in machine learning?"
   ]
  },
  {
   "cell_type": "markdown",
   "id": "3e0e9794-5cc4-4d8c-b0ba-cb00ac94dc92",
   "metadata": {},
   "source": [
    "Ensemble techniques are used in machine learning for several reasons, including:\n",
    "\n",
    "Improved accuracy: Ensemble methods can often achieve higher accuracy than a single model by combining the strengths of multiple models and reducing the impact of individual model weaknesses.\n",
    "\n",
    "Robustness: Ensemble methods can be more robust to overfitting, noisy data, and model biases than a single model by averaging out errors and capturing a more diverse range of patterns in the data.\n",
    "\n",
    "Generalization: Ensemble methods can improve generalization by reducing the risk of overfitting on the training data and improving the model's ability to generalize to new data.\n",
    "\n",
    "Model selection: Ensemble methods can be used to select the best model or combination of models from a set of candidate models by comparing their performance on the validation or test data.\n",
    "\n",
    "Scalability: Ensemble methods can be easily parallelized, allowing them to scale to larger datasets and higher-dimensional feature spaces."
   ]
  },
  {
   "cell_type": "markdown",
   "id": "2086e97e-89fe-4af2-aba8-7cb0274fc054",
   "metadata": {},
   "source": [
    "#### Q3. What is bagging?"
   ]
  },
  {
   "cell_type": "markdown",
   "id": "893831d7-f12b-4ebd-bc1b-229e8ab63469",
   "metadata": {},
   "source": [
    "Bagging (short for Bootstrap Aggregation) is an ensemble technique in machine learning that involves training multiple independent models on different subsets of the training data and then combining their predictions through averaging or voting.\n",
    "\n",
    "The key idea behind bagging is to reduce the variance of the prediction by introducing randomness in the training process."
   ]
  },
  {
   "cell_type": "markdown",
   "id": "893d3ebc-9607-4ea5-b81c-1e7aa62c3ff7",
   "metadata": {},
   "source": [
    "#### Q4. What is boosting?"
   ]
  },
  {
   "cell_type": "markdown",
   "id": "26746ce2-0b17-4f93-959c-24733cf9f7f2",
   "metadata": {},
   "source": [
    "Boosting is an ensemble technique in machine learning that involves iteratively training weak models and adjusting the weights of misclassified samples in each iteration to improve their accuracy. The final prediction is then based on a weighted combination of these models.\n",
    "\n",
    "The key idea behind boosting is to focus on the samples that are difficult to classify by assigning higher weights to them in each iteration"
   ]
  },
  {
   "cell_type": "markdown",
   "id": "eb103fd3-3698-436c-be53-e29a35c6ec8c",
   "metadata": {},
   "source": [
    "#### Q5. What are the benefits of using ensemble techniques?"
   ]
  },
  {
   "cell_type": "markdown",
   "id": "855b11a6-ed92-44c9-b865-d807d5628c78",
   "metadata": {},
   "source": [
    "- Improve Accuracy\n",
    "- Robustness\n",
    "- Generalization\n",
    "- Model Selection (select the best model)\n",
    "- scalability\n",
    "- Interpretability"
   ]
  },
  {
   "cell_type": "markdown",
   "id": "32cd3bbd-b746-475c-b633-8ce6f72454c2",
   "metadata": {},
   "source": [
    "#### Q6. Are ensemble techniques always better than individual models?"
   ]
  },
  {
   "cell_type": "markdown",
   "id": "be9f5cc9-1c58-4131-9c48-5cec458990f3",
   "metadata": {},
   "source": [
    "While ensemble techniques can often achieve higher accuracy and robustness than individual models, they are not always better in every scenario.\n",
    "\n",
    "When not to choose the ensemble technique:\n",
    "\n",
    "- small datasets\n",
    "- simple model"
   ]
  },
  {
   "cell_type": "markdown",
   "id": "f98cffa3-e24f-4b16-b30c-97a730e422a6",
   "metadata": {},
   "source": [
    "#### Q7. How is the confidence interval calculated using bootstrap?"
   ]
  },
  {
   "cell_type": "markdown",
   "id": "6f5f6700-c985-4c8f-89cf-7951334f6a7a",
   "metadata": {},
   "source": [
    "Here is the general procedure for calculating the confidence interval using bootstrap:\n",
    "\n",
    "Draw a large number (e.g., 1000) of random samples with replacement from the original dataset.\n",
    "Calculate the parameter of interest (e.g., mean, median, standard deviation, etc.) for each resampled dataset.\n",
    "Calculate the mean and standard deviation of the resulting distribution of parameter estimates.\n",
    "Use the mean and standard deviation to calculate the confidence interval at a desired level of significance (e.g., 95%, 99%).\n",
    "\n",
    "\n",
    "For example, suppose you have a dataset of n observations and you want to calculate the 95% confidence interval for the mean. Here are the steps:\n",
    "\n",
    "Draw a large number (e.g., 1000) of random samples with replacement from the original dataset, each with n observations.\n",
    "\n",
    "Calculate the mean for each resampled dataset.\n",
    "\n",
    "Calculate the mean and standard deviation of the resulting distribution of means.\n",
    "\n",
    "Calculate the lower and upper bounds of the 95% confidence interval as follows:\n",
    "\n",
    "lower bound = mean - 1.96 * standard deviation / sqrt(n)\n",
    "upper bound = mean + 1.96 * standard deviation / sqrt(n)"
   ]
  },
  {
   "cell_type": "markdown",
   "id": "d9d8c30e-cd2e-4f34-8418-d232ebaebeee",
   "metadata": {},
   "source": [
    "#### Q8. How does bootstrap work and What are the steps involved in bootstrap?"
   ]
  },
  {
   "cell_type": "markdown",
   "id": "6c5a68ed-cc56-4a85-b365-d4333f179930",
   "metadata": {},
   "source": [
    "Bootstrap is a statistical method used to estimate the sampling distribution of a statistic by resampling the original dataset with replacement. The basic idea behind bootstrap is to simulate many samples from the original dataset by resampling, and then use these simulated samples to estimate the population parameter of interest.\n",
    "\n",
    "Collect the original dataset: Collect the dataset of interest which contains a sample of observations from the population.\n",
    "\n",
    "Resample the data: Randomly select observations from the original dataset with replacement to create a new resampled dataset of the same size as the original dataset. This process is repeated multiple times (typically thousands of times) to create a large number of resampled datasets.\n",
    "\n",
    "Calculate the statistic of interest: Calculate the statistic of interest (e.g., mean, median, variance, etc.) on each of the resampled datasets.\n",
    "\n",
    "Estimate the sampling distribution: Use the distribution of the calculated statistic across the resampled datasets to estimate the sampling distribution of the statistic. This can be done by calculating the mean, standard deviation, and other statistics of the distribution.\n",
    "\n",
    "Calculate the confidence interval: Use the estimated sampling distribution to calculate the confidence interval of the statistic at a desired level of confidence (e.g., 95%, 99%).\n",
    "\n",
    "Interpret the results: Interpret the results by using the estimated confidence interval to draw conclusions about the population parameter of interest."
   ]
  },
  {
   "cell_type": "markdown",
   "id": "961966f1-8fd7-49ed-8718-f36fd2a6b8d8",
   "metadata": {},
   "source": [
    "#### Q9. A researcher wants to estimate the mean height of a population of trees. They measure the height of a sample of 50 trees and obtain a mean height of 15 meters and a standard deviation of 2 meters. Use bootstrap to estimate the 95% confidence interval for the population mean height."
   ]
  },
  {
   "cell_type": "code",
   "execution_count": 1,
   "id": "4b7b7a50-ae46-4b2f-8f54-85c328e10dcc",
   "metadata": {
    "tags": []
   },
   "outputs": [],
   "source": [
    "import numpy as np"
   ]
  },
  {
   "cell_type": "code",
   "execution_count": 2,
   "id": "64261ca0-bd6a-47d4-8e6a-3871d91eea3c",
   "metadata": {
    "tags": []
   },
   "outputs": [],
   "source": [
    "# sample of 50 trees\n",
    "heights = np.array([15.0, 14.5, 14.7, 15.2, 15.1, 15.5, 14.9, 14.8, 15.4, 15.3,\n",
    "                    15.2, 14.9, 15.1, 14.6, 15.3, 14.7, 15.0, 15.2, 15.3, 14.8,\n",
    "                    15.0, 15.5, 15.1, 14.9, 15.2, 14.5, 14.8, 15.1, 15.0, 15.4,\n",
    "                    15.2, 15.0, 14.7, 14.8, 15.3, 15.1, 15.2, 15.5, 14.6, 15.0,\n",
    "                    14.9, 15.2, 15.3, 15.1, 14.8, 15.4, 14.7, 15.1, 15.0, 14.9])"
   ]
  },
  {
   "cell_type": "code",
   "execution_count": 3,
   "id": "6871f2f3-7a60-42a2-92c1-911c3109dece",
   "metadata": {
    "tags": []
   },
   "outputs": [],
   "source": [
    "# no of resample dataset\n",
    "n_resampled = 1000"
   ]
  },
  {
   "cell_type": "code",
   "execution_count": 7,
   "id": "3e535850-ef15-45b4-86d6-ac48851ba6c2",
   "metadata": {
    "tags": []
   },
   "outputs": [],
   "source": [
    "# Resample with replacement and calculate mean heights\n",
    "resampled_mean = np.zeros(n_resampled)\n",
    "for i in range(n_resampled):\n",
    "    resampled = np.random.choice(heights, size=len(heights), replace=True)\n",
    "    resampled_mean[i] = np.mean(resampled)"
   ]
  },
  {
   "cell_type": "code",
   "execution_count": 8,
   "id": "f0d57ab4-61b5-40b8-b7ed-b4a613d442b0",
   "metadata": {
    "tags": []
   },
   "outputs": [],
   "source": [
    "# Calculate mean and standard deviation of resampled means\n",
    "mean_resampled_means = np.mean(resampled_mean)\n",
    "std_resampled_means = np.std(resampled_mean)"
   ]
  },
  {
   "cell_type": "code",
   "execution_count": 9,
   "id": "7476e79e-0d3b-48bb-b7e8-1187d9f8d885",
   "metadata": {
    "tags": []
   },
   "outputs": [],
   "source": [
    "# Calculate confidence interval for population mean height\n",
    "n = len(heights)\n",
    "ci_lower = mean_resampled_means - 1.96 * std_resampled_means / np.sqrt(n)\n",
    "ci_upper = mean_resampled_means + 1.96 * std_resampled_means / np.sqrt(n)"
   ]
  },
  {
   "cell_type": "code",
   "execution_count": 11,
   "id": "861eb12d-dd71-4bdf-97c3-c6dce29d7bdc",
   "metadata": {
    "tags": []
   },
   "outputs": [
    {
     "name": "stdout",
     "output_type": "stream",
     "text": [
      "95% Confidence Interval for Population Mean Height: [15.026, 15.046]\n"
     ]
    }
   ],
   "source": [
    "print(f\"95% Confidence Interval for Population Mean Height: [{ci_lower:.3f}, {ci_upper:.3f}]\")"
   ]
  },
  {
   "cell_type": "markdown",
   "id": "37dde7aa-d8de-4ce7-972f-00ce5a938502",
   "metadata": {},
   "source": [
    "This indicates that we can be 95% confident that the true population mean height of the trees is between 14.640 and 15.378 meters. Note that the results may vary slightly due to the random nature of the resampling process."
   ]
  },
  {
   "cell_type": "code",
   "execution_count": null,
   "id": "6d985c51-b0b2-4ed2-8293-6fdc502f179a",
   "metadata": {},
   "outputs": [],
   "source": []
  }
 ],
 "metadata": {
  "kernelspec": {
   "display_name": "Python 3 (ipykernel)",
   "language": "python",
   "name": "python3"
  },
  "language_info": {
   "codemirror_mode": {
    "name": "ipython",
    "version": 3
   },
   "file_extension": ".py",
   "mimetype": "text/x-python",
   "name": "python",
   "nbconvert_exporter": "python",
   "pygments_lexer": "ipython3",
   "version": "3.11.2"
  }
 },
 "nbformat": 4,
 "nbformat_minor": 5
}
