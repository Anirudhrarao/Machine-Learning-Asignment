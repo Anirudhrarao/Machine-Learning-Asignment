{
 "cells": [
  {
   "cell_type": "markdown",
   "id": "32181a45",
   "metadata": {},
   "source": [
    "#### Q1. A company conducted a survey of its employees and found that 70% of the employees use the company's health insurance plan, while 40% of the employees who use the plan are smokers. What is the probability that an employee is a smoker given that he/she uses the health insurance plan?"
   ]
  },
  {
   "cell_type": "markdown",
   "id": "31409561",
   "metadata": {},
   "source": [
    "This can be solve using bayes theorem\n",
    "\n",
    "let A denote the event that employee is smoker.\n",
    "\n",
    "B denotes the event that employees uses health insuarance.\n",
    "\n",
    "P(A|B) = P(B|A) * P(A) | P(B)\n",
    "\n",
    "P(B) = 70% = 0.70, P(A|H) = 40% = 0.40\n",
    "\n",
    "P(A) = p(A|B) * P(B) + P(A|B') * P(B')\n",
    "\n",
    "     = 0.40 * 0.70 + 0.20 * 0.30\n",
    "     \n",
    "     = 0.34\n",
    "     \n",
    "P(A|B) = P(B|A) * P(A)/P(B)\n",
    "\n",
    "       = 0.40 * 0.34 / 0.70\n",
    "\n",
    "       = 19.5 are somker uses the health insuarance\n",
    "       \n",
    " "
   ]
  },
  {
   "cell_type": "markdown",
   "id": "152e9ea0",
   "metadata": {},
   "source": [
    "#### Q2. What is the difference between Bernoulli Naive Bayes and Multinomial Naive Bayes?"
   ]
  },
  {
   "cell_type": "markdown",
   "id": "6d03af31",
   "metadata": {},
   "source": [
    "The main difference between Bernoulli Naive Bayes and Multinomial Naive Bayes is the type of data they are designed to handle. Bernoulli Naive Bayes is used for binary data (i.e., data that can take on only two values), while Multinomial Naive Bayes is used for count data (i.e., data that represents the frequency of occurrence of multiple discrete events)."
   ]
  },
  {
   "cell_type": "markdown",
   "id": "609fae67",
   "metadata": {},
   "source": [
    "#### Q3. How does Bernoulli Naive Bayes handle missing values?"
   ]
  },
  {
   "cell_type": "markdown",
   "id": "c2d507d5",
   "metadata": {},
   "source": [
    "- Drop the missing values\n",
    "- Impute the missing values\n",
    "- Treat missing values as separate category"
   ]
  },
  {
   "cell_type": "markdown",
   "id": "2ff5bcc3",
   "metadata": {},
   "source": [
    "#### Q4. Can Gaussian Naive Bayes be used for multi-class classification?"
   ]
  },
  {
   "cell_type": "markdown",
   "id": "9e12d1e3",
   "metadata": {},
   "source": [
    "Yes, Gaussian Naive Bayes can be used for multi-class classification. In the case of multi-class classification, Gaussian Naive Bayes estimates the parameters of a Gaussian distribution for each class and uses these estimates to compute the probability of each class given the feature vector."
   ]
  },
  {
   "cell_type": "markdown",
   "id": "fafd2a06",
   "metadata": {},
   "source": [
    "### Q5. Assignment:\n",
    "#### Data preparation:\n",
    "Download the \"Spambase Data Set\" from the UCI Machine Learning Repository (https://archive.ics.uci.edu/ml/datasets/Spambase). This dataset contains email messages, where the goal is to predict whether a message\n",
    "is spam or not based on several input features.\n",
    "\n",
    "#### Implementation:\n",
    "Implement Bernoulli Naive Bayes, Multinomial Naive Bayes, and Gaussian Naive Bayes classifiers using the\n",
    "scikit-learn library in Python. Use 10-fold cross-validation to evaluate the performance of each classifier on the\n",
    "dataset. You should use the default hyperparameters for each classifier.\n",
    "\n",
    "#### Results:\n",
    "Report the following performance metrics for each classifier:\n",
    "Accuracy\n",
    "Precision\n",
    "Recall\n",
    "F1 score\n",
    "#### Discussion:\n",
    "Discuss the results you obtained. Which variant of Naive Bayes performed the best? Why do you think that is\n",
    "the case? Are there any limitations of Naive Bayes that you observed?\n",
    "Conclusion:\n",
    "Summarise your findings and provide some suggestions for future work."
   ]
  },
  {
   "cell_type": "code",
   "execution_count": 1,
   "id": "67a4c12e",
   "metadata": {},
   "outputs": [],
   "source": [
    "# importing all the lib important library\n",
    "import pandas as pd\n",
    "import numpy as np"
   ]
  },
  {
   "cell_type": "code",
   "execution_count": 10,
   "id": "3be8c985",
   "metadata": {},
   "outputs": [],
   "source": [
    "df = pd.read_csv('spambase.data')"
   ]
  },
  {
   "cell_type": "code",
   "execution_count": null,
   "id": "156ed930",
   "metadata": {},
   "outputs": [],
   "source": []
  }
 ],
 "metadata": {
  "kernelspec": {
   "display_name": "Python 3 (ipykernel)",
   "language": "python",
   "name": "python3"
  },
  "language_info": {
   "codemirror_mode": {
    "name": "ipython",
    "version": 3
   },
   "file_extension": ".py",
   "mimetype": "text/x-python",
   "name": "python",
   "nbconvert_exporter": "python",
   "pygments_lexer": "ipython3",
   "version": "3.11.2"
  }
 },
 "nbformat": 4,
 "nbformat_minor": 5
}
