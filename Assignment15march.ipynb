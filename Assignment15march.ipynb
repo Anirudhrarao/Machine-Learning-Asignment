{
 "cells": [
  {
   "cell_type": "markdown",
   "id": "c1c0b2b6",
   "metadata": {},
   "source": [
    "#### Q1- Explain following with an example:\n",
    "1. Artificial Intelligence\n",
    "2. Machine Learning\n",
    "3. Deep learning"
   ]
  },
  {
   "cell_type": "markdown",
   "id": "c53fd1ba",
   "metadata": {},
   "source": [
    "1. Aritificial intelligence is a smart application that can perform its own task itself without any human interaction. eg: self driving car, robots\n",
    "\n",
    "2. Machine larning  is an subset of artificial intelligence it provides statstool to learn analyze visualize and develope predictive models from the data.\n",
    "\n",
    "3. Deep learning is a method in artificial intelligence (AI) that teaches computers to process data in a way that is inspired by the human brain"
   ]
  },
  {
   "cell_type": "markdown",
   "id": "d2bbcaa9",
   "metadata": {},
   "source": [
    "#### Q2- What is supervised learning? List some example of supervised learning."
   ]
  },
  {
   "cell_type": "markdown",
   "id": "7239b1ef",
   "metadata": {},
   "source": [
    "Supervised learning is type of machine learning in which model trained using well labelled tarining data and on the basis of data, machine will predict output. The labelled data means some input data is already tagged with the correct output.\n",
    "\n",
    "Example: Risk Assessment, Image classification, Fraud Detection, spam filtering, etc."
   ]
  },
  {
   "cell_type": "markdown",
   "id": "96f9d1c4",
   "metadata": {},
   "source": [
    "#### Q3- What is unsupervised learning ? List some examples of unsupervised learning."
   ]
  },
  {
   "cell_type": "markdown",
   "id": "7d34387b",
   "metadata": {},
   "source": [
    "Unsupervised learning, also known as unsupervised machine learning, uses machine learning algorithms to analyze and cluster unlabeled datasets. These algorithms discover hidden patterns or data groupings without the need for human intervention.\n",
    "\n",
    "Example: Customer segmentation, Pattern recognition(grouping images)"
   ]
  },
  {
   "cell_type": "markdown",
   "id": "951833a0",
   "metadata": {},
   "source": [
    "#### Q4- What is the difference between AI, ML, DL, and DS?"
   ]
  },
  {
   "cell_type": "markdown",
   "id": "19c257e5",
   "metadata": {},
   "source": [
    "The ML is subset of AI and DL is a subset of ML so both are ML and DL are part of AI.\n",
    "In DS we all AI,ML and DL are considered in the DS."
   ]
  },
  {
   "cell_type": "markdown",
   "id": "ef476c20",
   "metadata": {},
   "source": [
    "#### Q5- What are the main differences between supervised, unsupervised, and semi-supervised learning?"
   ]
  },
  {
   "cell_type": "markdown",
   "id": "d1c7a469",
   "metadata": {},
   "source": [
    "The above three are types of machine learning algorithms used to train prediction models.\n",
    "\n",
    "Supervised learning is type of machine learning in which model trained using well labelled tarining data and on the basis of data, machine will predict output. The labelled data means some input data is already tagged with the correct output.\n",
    "\n",
    "Unsupervised learning, also known as unsupervised machine learning, uses machine learning algorithms to analyze and cluster unlabeled datasets. These algorithms discover hidden patterns or data groupings without the need for human intervention\n",
    "\n",
    "Semi-supervised use both labelled or un-labelled data for training model."
   ]
  },
  {
   "cell_type": "markdown",
   "id": "47c924ee",
   "metadata": {},
   "source": [
    "#### Q6- What is train, test and validation split? Explain the importance of each term."
   ]
  },
  {
   "cell_type": "markdown",
   "id": "18d31c46",
   "metadata": {},
   "source": [
    "The above three are process of dividing the dataset into three parts for developing the machine learning models.\n",
    "1. Train: used to train machine learnin models.\n",
    "2. Test: used to evaluate the performance of the trained model.\n",
    "3. Validation: optional part of data. used to tune hyperparameter. "
   ]
  },
  {
   "cell_type": "markdown",
   "id": "bcb66fbb",
   "metadata": {},
   "source": [
    "#### Q7- How can unsupervised learning be used in anomaly detection?"
   ]
  },
  {
   "cell_type": "markdown",
   "id": "e3d4b16c",
   "metadata": {},
   "source": [
    "The most common version of anomaly detection is unsupervised approach.\n",
    "Anomaly detection techniques of unsupervised nature assume that normal data points occur considerably more frequently than anomalous data points."
   ]
  },
  {
   "cell_type": "markdown",
   "id": "c79bc05e",
   "metadata": {},
   "source": [
    "#### Q8- List down some commonly used supervised learning algorithms and unsupervised learning algorithms."
   ]
  },
  {
   "cell_type": "markdown",
   "id": "581de25d",
   "metadata": {},
   "source": [
    "##### Supervised Learning Algorithms:\n",
    "\n",
    "1. Linear Regression\n",
    "2. Logistic Regression0\n",
    "3. Decision Trees\n",
    "4. Random Forest\n",
    "5. Support Vector Machines (SVM)\n",
    "6. K-Nearest Neighbors (KNN)\n",
    "7. Naive Bayes\n",
    "8. Neural Networks\n",
    "9. Gradient Boosting\n",
    "\n",
    "##### Unsupervised Learning Algorithms:\n",
    "\n",
    "1. K-Means Clustering\n",
    "2. Hierarchical Clustering\n",
    "3. Principal Component Analysis (PCA)\n",
    "4. Association Rule Learning\n",
    "5. Self-Organizing Maps (SOM)\n",
    "6. Anomaly Detection\n",
    "7. t-Distributed Stochastic Neighbor Embedding (t-SNE)\n",
    "8. Generative Adversarial Networks (GANs)\n",
    "9. Isolation Forest\n"
   ]
  }
 ],
 "metadata": {
  "kernelspec": {
   "display_name": "Python 3 (ipykernel)",
   "language": "python",
   "name": "python3"
  },
  "language_info": {
   "codemirror_mode": {
    "name": "ipython",
    "version": 3
   },
   "file_extension": ".py",
   "mimetype": "text/x-python",
   "name": "python",
   "nbconvert_exporter": "python",
   "pygments_lexer": "ipython3",
   "version": "3.11.2"
  }
 },
 "nbformat": 4,
 "nbformat_minor": 5
}
